{
 "cells": [
  {
   "cell_type": "code",
   "execution_count": null,
   "id": "ee235adc-4c8c-4b53-a298-78fdca84d0eb",
   "metadata": {},
   "outputs": [],
   "source": [
    "import pandas as pd\n",
    "import matplotlib.pyplot as plt\n",
    "import seaborn as sns\n",
    "\n",
    "games = pd.read_csv(r\"C:\\Users\\l3anp\\OneDrive\\Desktop\\inst414\\nba_dataset_inst414\\Cleaned_Games.csv\")\n",
    "games.head()"
   ]
  },
  {
   "cell_type": "code",
   "execution_count": null,
   "id": "a23342eb-d1e8-477c-bcc9-ffa5cca35a6e",
   "metadata": {},
   "outputs": [],
   "source": [
    "# histogram of home scores\n",
    "plt.hist(games['homeScore'], bins=15, color='orange')\n",
    "\n",
    "plt.title('Distribution of Home Scores')\n",
    "plt.xlabel('Home Scores')\n",
    "plt.ylabel('Frequency')\n",
    "plt.show()"
   ]
  },
  {
   "cell_type": "markdown",
   "id": "60d330c5-e7cd-42d4-864c-d3f0a193c314",
   "metadata": {},
   "source": [
    "**Figure 1. Distribution of Home Team Scores.**\n",
    "This figure represents a fairly normal distribution and shows that most teams tend to score between 100-120 points"
   ]
  },
  {
   "cell_type": "code",
   "execution_count": null,
   "id": "ac398775-edc5-4e46-9eec-26ee0e6c10c6",
   "metadata": {},
   "outputs": [],
   "source": [
    "# summary of figure 1 statistics\n",
    "games['homeScore'].describe()"
   ]
  },
  {
   "cell_type": "code",
   "execution_count": null,
   "id": "f33b5aa2-5398-4de0-9fba-6934090f9db3",
   "metadata": {},
   "outputs": [],
   "source": [
    "# histogram of away scores\n",
    "plt.hist(games['awayScore'], bins=15, color='orange')\n",
    "\n",
    "plt.title('Distribution of Away Scores')\n",
    "plt.xlabel('Away Scores')\n",
    "plt.ylabel('Frequency')\n",
    "plt.show()"
   ]
  },
  {
   "cell_type": "markdown",
   "id": "c3691f07-a653-46ff-bcea-a7dd6d822929",
   "metadata": {},
   "source": [
    "**Figure 2. Distribution of Away Team Scores.**\n",
    "This figure represents a fairly normal distribution and shows that most away teams tend to score around 100-115 points"
   ]
  },
  {
   "cell_type": "code",
   "execution_count": null,
   "id": "e64fb9d3-0fc4-4ee4-a264-11a198890265",
   "metadata": {},
   "outputs": [],
   "source": [
    "# summary of figure 2 statistics\n",
    "games['awayScore'].describe()"
   ]
  },
  {
   "cell_type": "code",
   "execution_count": null,
   "id": "bdb86264-562f-4e30-88d0-577329e40ef3",
   "metadata": {},
   "outputs": [],
   "source": [
    "# drop header row\n",
    "games = games.drop(index=0)\n",
    "\n",
    "# create winType to distinguish home and away wins from winner column\n",
    "games['winType'] = games.apply(\n",
    "    lambda row: 'Home Win' if row['winner'] == row['hometeamId'] else 'Away Win', axis=1)\n",
    "\n",
    "# countplot of home and away wins\n",
    "sns.countplot(x='winType', data=games, color='orange')\n",
    "\n",
    "plt.title('Distribution of Game Winners')\n",
    "plt.xlabel('Wins')\n",
    "plt.ylabel('Frequency')\n",
    "plt.show()"
   ]
  },
  {
   "cell_type": "markdown",
   "id": "53b1f260-f3e0-431b-ad13-87bba93f6faf",
   "metadata": {},
   "source": [
    "**Figure 3. Distribution of Game Winners.**\n",
    "This figure represents the number of home wins and away wins."
   ]
  },
  {
   "cell_type": "code",
   "execution_count": null,
   "id": "3cd3cf20-dd77-4c11-bd7b-616b9587ab3f",
   "metadata": {},
   "outputs": [],
   "source": [
    "# count of game winners from figure 3\n",
    "games['winType'].value_counts()"
   ]
  },
  {
   "cell_type": "code",
   "execution_count": null,
   "id": "ecac4087-cd20-4786-829c-214d5ad6ba2d",
   "metadata": {},
   "outputs": [],
   "source": [
    "# create gameTypeSpecific to distinguish playoff and regular season games from gameType column\n",
    "games['gameTypeSpecific'] = games.apply(\n",
    "    lambda row: 'Regular Season' if row['gameType'] == 'Regular Season' else 'Playoffs', axis=1)\n",
    "\n",
    "# countplot of playoff and regular season games\n",
    "sns.countplot(x='gameTypeSpecific', data=games, color='orange')\n",
    "\n",
    "plt.title('Distribution of Game Types')\n",
    "plt.xlabel('Game Type')\n",
    "plt.ylabel('Frequency')\n",
    "plt.show()"
   ]
  },
  {
   "cell_type": "markdown",
   "id": "580d1832-8295-4ac8-8004-01515a3c6d72",
   "metadata": {},
   "source": [
    "**Figure 4. Distribution of Game Types.** This figure represents the number of playoff and regular season games."
   ]
  },
  {
   "cell_type": "code",
   "execution_count": null,
   "id": "b25dea91-6cc3-4592-aaf7-87b9a4235237",
   "metadata": {},
   "outputs": [],
   "source": [
    "# count of game types from figure 4 \n",
    "games['gameTypeSpecific'].value_counts()"
   ]
  },
  {
   "cell_type": "code",
   "execution_count": null,
   "id": "676dbcd7-d31f-4897-9de9-9ee61eb73865",
   "metadata": {},
   "outputs": [],
   "source": [
    "# create homeWin to distinguish only home wins from winner column\n",
    "games['homeWin'] = games['winner'] == games['hometeamId']\n",
    "games['homeWin'] = games['homeWin'].astype(int)"
   ]
  },
  {
   "cell_type": "code",
   "execution_count": null,
   "id": "5b41c735-80bf-4a3c-a6e1-6ebac8b95b7c",
   "metadata": {},
   "outputs": [],
   "source": [
    "# bar plot of home win proportions by game type\n",
    "sns.barplot(data=games, x='gameTypeSpecific', y='homeWin', estimator='mean', color='orange')\n",
    "\n",
    "plt.title('Home Win Rate by Game Type')\n",
    "plt.xlabel('Game Type')\n",
    "plt.ylabel('Proportion of Home Wins')\n",
    "plt.show()"
   ]
  },
  {
   "cell_type": "markdown",
   "id": "e7de4c42-f295-4ba2-b01a-bd280d8a1487",
   "metadata": {},
   "source": [
    "**Figure 5. Home Win Rate by Game Type.** \n",
    "This figure represents the proportion of games won by home teams during the playoffs and regular season."
   ]
  },
  {
   "cell_type": "code",
   "execution_count": null,
   "id": "d542eccf-8f11-4666-ae3c-10a65c4bfca1",
   "metadata": {},
   "outputs": [],
   "source": [
    "# summary of figure 5 statistics\n",
    "games.groupby('gameTypeSpecific')['homeWin'].mean()"
   ]
  },
  {
   "cell_type": "code",
   "execution_count": null,
   "id": "b8af7f35-6062-4712-ba14-f4bfab52f64c",
   "metadata": {},
   "outputs": [],
   "source": [
    "# box plot of attendance by game type and outcome\n",
    "axes = sns.boxplot(data=games, x='gameTypeSpecific', y='attendance', hue='homeWin')\n",
    "\n",
    "sns.move_legend(axes, \"best\", title='Game Outcome', labels=['Home Loss', 'Home Win'])\n",
    "plt.title('Attendance by Game Type and Game Outcome')\n",
    "plt.xlabel('Game Type')\n",
    "plt.ylabel('Attendance')\n",
    "plt.show()"
   ]
  },
  {
   "cell_type": "markdown",
   "id": "f570d588-cdd9-49fb-94b8-7fea9335cfbb",
   "metadata": {},
   "source": [
    "**Figure 6. Attendance by Game Type and Game Outcome.** \n",
    "This figure represents the attendance of games during playoff and regular season home wins and losses."
   ]
  },
  {
   "cell_type": "code",
   "execution_count": null,
   "id": "f24d6edd-a326-4c49-904a-ea89dc05af45",
   "metadata": {},
   "outputs": [],
   "source": [
    "# summary of figure 6 statistics\n",
    "games.groupby(['gameTypeSpecific', 'homeWin'])['attendance'].describe()"
   ]
  }
 ],
 "metadata": {
  "kernelspec": {
   "display_name": "Python 3 (ipykernel)",
   "language": "python",
   "name": "python3"
  },
  "language_info": {
   "codemirror_mode": {
    "name": "ipython",
    "version": 3
   },
   "file_extension": ".py",
   "mimetype": "text/x-python",
   "name": "python",
   "nbconvert_exporter": "python",
   "pygments_lexer": "ipython3",
   "version": "3.13.5"
  }
 },
 "nbformat": 4,
 "nbformat_minor": 5
}
